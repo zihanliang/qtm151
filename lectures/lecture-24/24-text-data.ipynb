{
 "cells": [
  {
   "attachments": {},
   "cell_type": "markdown",
   "metadata": {},
   "source": [
    "# Lecture 24 - Text Data  \n",
    "\n",
    "<font size = \"5\">\n",
    "\n",
    "In  this lecture we will work with text data"
   ]
  },
  {
   "attachments": {},
   "cell_type": "markdown",
   "metadata": {},
   "source": [
    "<font size = \"5\">\n",
    "\n",
    "Import Libraries"
   ]
  },
  {
   "cell_type": "code",
   "execution_count": 1,
   "metadata": {},
   "outputs": [],
   "source": [
    "import pandas as pd"
   ]
  },
  {
   "cell_type": "markdown",
   "metadata": {},
   "source": [
    "<font size = \"5\">\n",
    "\n",
    "Import Data\n",
    "\n",
    "- Congressional bills in the United States"
   ]
  },
  {
   "cell_type": "code",
   "execution_count": 2,
   "metadata": {},
   "outputs": [
    {
     "data": {
      "text/plain": [
       "Congress        int64\n",
       "bill_number     int64\n",
       "bill_type      object\n",
       "action         object\n",
       "main_action    object\n",
       "category       object\n",
       "member_id       int64\n",
       "dtype: object"
      ]
     },
     "execution_count": 2,
     "metadata": {},
     "output_type": "execute_result"
    }
   ],
   "source": [
    "bills_actions = pd.read_csv(\"data_raw/bills_actions.csv\")\n",
    "bills_actions.dtypes"
   ]
  },
  {
   "cell_type": "markdown",
   "metadata": {},
   "source": [
    "# II. Basic Text Operations "
   ]
  },
  {
   "cell_type": "markdown",
   "metadata": {},
   "source": [
    "<font size = \"5\">\n",
    "\n",
    "Count Frequency"
   ]
  },
  {
   "cell_type": "code",
   "execution_count": 3,
   "metadata": {},
   "outputs": [
    {
     "data": {
      "text/plain": [
       "0         amendment\n",
       "1         amendment\n",
       "2         amendment\n",
       "3       senate bill\n",
       "4       senate bill\n",
       "           ...     \n",
       "3298      amendment\n",
       "3299      amendment\n",
       "3300      amendment\n",
       "3301      amendment\n",
       "3302      amendment\n",
       "Name: category, Length: 3303, dtype: object"
      ]
     },
     "execution_count": 3,
     "metadata": {},
     "output_type": "execute_result"
    }
   ],
   "source": [
    "bills_actions[\"category\"]"
   ]
  },
  {
   "cell_type": "code",
   "execution_count": 4,
   "metadata": {},
   "outputs": [
    {
     "data": {
      "text/plain": [
       "category\n",
       "amendment                       1529\n",
       "house bill                       902\n",
       "senate bill                      514\n",
       "house resolution                 234\n",
       "senate resolution                 60\n",
       "house joint resolution            22\n",
       "house concurrent resolution       20\n",
       "senate concurrent resolution      14\n",
       "senate joint resolution            8\n",
       "Name: count, dtype: int64"
      ]
     },
     "execution_count": 4,
     "metadata": {},
     "output_type": "execute_result"
    }
   ],
   "source": [
    "bills_actions[\"category\"].value_counts()"
   ]
  },
  {
   "cell_type": "markdown",
   "metadata": {},
   "source": [
    "<font size = \"5\">\n",
    "\n",
    "Subset text categories"
   ]
  },
  {
   "cell_type": "code",
   "execution_count": 5,
   "metadata": {},
   "outputs": [
    {
     "data": {
      "text/plain": [
       "category\n",
       "house bill     902\n",
       "senate bill    514\n",
       "Name: count, dtype: int64"
      ]
     },
     "execution_count": 5,
     "metadata": {},
     "output_type": "execute_result"
    }
   ],
   "source": [
    "# For this analysis we are only interested in bills. With \".query()\" ...\n",
    "#     - We select all entries in the column called \"category\" \n",
    "#       which have values contain in \"list_categories\"\n",
    "#     - \"in\" is used to test whether a word belongs to a list\n",
    "#     - @ is the syntax to reference \"global\" variables that\n",
    "#       are defined in the global environment\n",
    "\n",
    "list_categories = [\"house bill\",\"senate bill\"]\n",
    "bills = bills_actions.query('category in @list_categories')\n",
    "\n",
    "# Verify that the code worked:\n",
    "bills[\"category\"].value_counts()\n"
   ]
  },
  {
   "cell_type": "markdown",
   "metadata": {},
   "source": [
    "<font size = \"5\">\n",
    "\n",
    "Data manipulation with sentences"
   ]
  },
  {
   "cell_type": "code",
   "execution_count": 6,
   "metadata": {},
   "outputs": [
    {
     "name": "stdout",
     "output_type": "stream",
     "text": [
      "0.3199152542372881\n"
     ]
    }
   ],
   "source": [
    "# How many bills mention the word Senator?\n",
    "bool_contains = bills[\"action\"].str.contains(\"Senator\")\n",
    "print(bool_contains.mean())"
   ]
  },
  {
   "cell_type": "code",
   "execution_count": 7,
   "metadata": {},
   "outputs": [
    {
     "data": {
      "text/html": [
       "<div>\n",
       "<style scoped>\n",
       "    .dataframe tbody tr th:only-of-type {\n",
       "        vertical-align: middle;\n",
       "    }\n",
       "\n",
       "    .dataframe tbody tr th {\n",
       "        vertical-align: top;\n",
       "    }\n",
       "\n",
       "    .dataframe thead th {\n",
       "        text-align: right;\n",
       "    }\n",
       "</style>\n",
       "<table border=\"1\" class=\"dataframe\">\n",
       "  <thead>\n",
       "    <tr style=\"text-align: right;\">\n",
       "      <th></th>\n",
       "      <th>Congress</th>\n",
       "      <th>bill_number</th>\n",
       "      <th>bill_type</th>\n",
       "      <th>action</th>\n",
       "      <th>main_action</th>\n",
       "      <th>category</th>\n",
       "      <th>member_id</th>\n",
       "    </tr>\n",
       "  </thead>\n",
       "  <tbody>\n",
       "    <tr>\n",
       "      <th>3</th>\n",
       "      <td>116</td>\n",
       "      <td>1199</td>\n",
       "      <td>s</td>\n",
       "      <td>Committee on Health, Education, Labor, and Pen...</td>\n",
       "      <td>senate committee/subcommittee actions</td>\n",
       "      <td>senate bill</td>\n",
       "      <td>1561</td>\n",
       "    </tr>\n",
       "    <tr>\n",
       "      <th>4</th>\n",
       "      <td>116</td>\n",
       "      <td>1208</td>\n",
       "      <td>s</td>\n",
       "      <td>Committee on the Judiciary. Reported by Senato...</td>\n",
       "      <td>senate committee/subcommittee actions</td>\n",
       "      <td>senate bill</td>\n",
       "      <td>1580</td>\n",
       "    </tr>\n",
       "    <tr>\n",
       "      <th>5</th>\n",
       "      <td>116</td>\n",
       "      <td>1231</td>\n",
       "      <td>s</td>\n",
       "      <td>Committee on the Judiciary. Reported by Senato...</td>\n",
       "      <td>senate committee/subcommittee actions</td>\n",
       "      <td>senate bill</td>\n",
       "      <td>1580</td>\n",
       "    </tr>\n",
       "    <tr>\n",
       "      <th>6</th>\n",
       "      <td>116</td>\n",
       "      <td>1228</td>\n",
       "      <td>s</td>\n",
       "      <td>Committee on Commerce, Science, and Transporta...</td>\n",
       "      <td>senate committee/subcommittee actions</td>\n",
       "      <td>senate bill</td>\n",
       "      <td>1002</td>\n",
       "    </tr>\n",
       "    <tr>\n",
       "      <th>7</th>\n",
       "      <td>116</td>\n",
       "      <td>123</td>\n",
       "      <td>s</td>\n",
       "      <td>Committee on Veterans' Affairs. Reported by Se...</td>\n",
       "      <td>senate committee/subcommittee actions</td>\n",
       "      <td>senate bill</td>\n",
       "      <td>1490</td>\n",
       "    </tr>\n",
       "    <tr>\n",
       "      <th>...</th>\n",
       "      <td>...</td>\n",
       "      <td>...</td>\n",
       "      <td>...</td>\n",
       "      <td>...</td>\n",
       "      <td>...</td>\n",
       "      <td>...</td>\n",
       "      <td>...</td>\n",
       "    </tr>\n",
       "    <tr>\n",
       "      <th>2944</th>\n",
       "      <td>116</td>\n",
       "      <td>617</td>\n",
       "      <td>hr</td>\n",
       "      <td>Committee on Energy and Natural Resources. Rep...</td>\n",
       "      <td>senate committee/subcommittee actions</td>\n",
       "      <td>house bill</td>\n",
       "      <td>1581</td>\n",
       "    </tr>\n",
       "    <tr>\n",
       "      <th>3081</th>\n",
       "      <td>116</td>\n",
       "      <td>762</td>\n",
       "      <td>hr</td>\n",
       "      <td>Committee on Energy and Natural Resources. Rep...</td>\n",
       "      <td>senate committee/subcommittee actions</td>\n",
       "      <td>house bill</td>\n",
       "      <td>1581</td>\n",
       "    </tr>\n",
       "    <tr>\n",
       "      <th>3142</th>\n",
       "      <td>116</td>\n",
       "      <td>828</td>\n",
       "      <td>hr</td>\n",
       "      <td>Committee on Homeland Security and Governmenta...</td>\n",
       "      <td>senate committee/subcommittee actions</td>\n",
       "      <td>house bill</td>\n",
       "      <td>1701</td>\n",
       "    </tr>\n",
       "    <tr>\n",
       "      <th>3150</th>\n",
       "      <td>116</td>\n",
       "      <td>829</td>\n",
       "      <td>hr</td>\n",
       "      <td>Committee on Homeland Security and Governmenta...</td>\n",
       "      <td>senate committee/subcommittee actions</td>\n",
       "      <td>house bill</td>\n",
       "      <td>1701</td>\n",
       "    </tr>\n",
       "    <tr>\n",
       "      <th>3195</th>\n",
       "      <td>116</td>\n",
       "      <td>887</td>\n",
       "      <td>hr</td>\n",
       "      <td>Committee on Homeland Security and Governmenta...</td>\n",
       "      <td>senate committee/subcommittee actions</td>\n",
       "      <td>house bill</td>\n",
       "      <td>1701</td>\n",
       "    </tr>\n",
       "  </tbody>\n",
       "</table>\n",
       "<p>453 rows × 7 columns</p>\n",
       "</div>"
      ],
      "text/plain": [
       "      Congress  bill_number bill_type  \\\n",
       "3          116         1199         s   \n",
       "4          116         1208         s   \n",
       "5          116         1231         s   \n",
       "6          116         1228         s   \n",
       "7          116          123         s   \n",
       "...        ...          ...       ...   \n",
       "2944       116          617        hr   \n",
       "3081       116          762        hr   \n",
       "3142       116          828        hr   \n",
       "3150       116          829        hr   \n",
       "3195       116          887        hr   \n",
       "\n",
       "                                                 action  \\\n",
       "3     Committee on Health, Education, Labor, and Pen...   \n",
       "4     Committee on the Judiciary. Reported by Senato...   \n",
       "5     Committee on the Judiciary. Reported by Senato...   \n",
       "6     Committee on Commerce, Science, and Transporta...   \n",
       "7     Committee on Veterans' Affairs. Reported by Se...   \n",
       "...                                                 ...   \n",
       "2944  Committee on Energy and Natural Resources. Rep...   \n",
       "3081  Committee on Energy and Natural Resources. Rep...   \n",
       "3142  Committee on Homeland Security and Governmenta...   \n",
       "3150  Committee on Homeland Security and Governmenta...   \n",
       "3195  Committee on Homeland Security and Governmenta...   \n",
       "\n",
       "                                main_action     category  member_id  \n",
       "3     senate committee/subcommittee actions  senate bill       1561  \n",
       "4     senate committee/subcommittee actions  senate bill       1580  \n",
       "5     senate committee/subcommittee actions  senate bill       1580  \n",
       "6     senate committee/subcommittee actions  senate bill       1002  \n",
       "7     senate committee/subcommittee actions  senate bill       1490  \n",
       "...                                     ...          ...        ...  \n",
       "2944  senate committee/subcommittee actions   house bill       1581  \n",
       "3081  senate committee/subcommittee actions   house bill       1581  \n",
       "3142  senate committee/subcommittee actions   house bill       1701  \n",
       "3150  senate committee/subcommittee actions   house bill       1701  \n",
       "3195  senate committee/subcommittee actions   house bill       1701  \n",
       "\n",
       "[453 rows x 7 columns]"
      ]
     },
     "execution_count": 7,
     "metadata": {},
     "output_type": "execute_result"
    }
   ],
   "source": [
    "bills[bills[\"action\"].str.contains(\"Senator\")]"
   ]
  },
  {
   "cell_type": "code",
   "execution_count": 8,
   "metadata": {},
   "outputs": [
    {
     "name": "stderr",
     "output_type": "stream",
     "text": [
      "/var/folders/_t/0zvl8h2j3fv5__973dlfsvgw0000gq/T/ipykernel_95409/1142849897.py:2: SettingWithCopyWarning: \n",
      "A value is trying to be set on a copy of a slice from a DataFrame.\n",
      "Try using .loc[row_indexer,col_indexer] = value instead\n",
      "\n",
      "See the caveats in the documentation: https://pandas.pydata.org/pandas-docs/stable/user_guide/indexing.html#returning-a-view-versus-a-copy\n",
      "  bills[\"action_custom\"] = bills[\"action\"].str.replace(\"Senator\",\"Sen.\")\n"
     ]
    }
   ],
   "source": [
    "# How to replace the word \"Senator\" with \"Sen.\"\n",
    "bills[\"action_custom\"] = bills[\"action\"].str.replace(\"Senator\",\"Sen.\")"
   ]
  },
  {
   "cell_type": "code",
   "execution_count": 9,
   "metadata": {},
   "outputs": [],
   "source": [
    "# To avoid this warning, you can use the following code:\n",
    "bills.loc[:, \"action_custom\"] = bills[\"action\"].str.replace(\"Senator\", \"Sen.\")"
   ]
  },
  {
   "cell_type": "markdown",
   "metadata": {},
   "source": [
    "<font size = \"5\">\n",
    "\n",
    "Try it yourself!\n",
    "\n",
    "- Obtain a new dataset called \"resolutions\" <br>\n",
    " which subsets rows contain the \"category\" values:\n",
    "\n",
    " ``` [\"house resolution\",\"senate resolution\"] ```"
   ]
  },
  {
   "cell_type": "code",
   "execution_count": 10,
   "metadata": {},
   "outputs": [],
   "source": [
    "# Write your own code"
   ]
  },
  {
   "attachments": {},
   "cell_type": "markdown",
   "metadata": {},
   "source": [
    "# III. Regular Expressions \n",
    "\n",
    "<font size = \"5\">\n",
    "\n",
    "Regular expressions enable advanced searching <br>\n",
    "for string data."
   ]
  },
  {
   "cell_type": "code",
   "execution_count": 11,
   "metadata": {},
   "outputs": [],
   "source": [
    "dataset = pd.read_csv(\"data_raw/bills_actions.csv\")\n",
    "senate_bills = dataset.query('category == \"senate bill\"')\n",
    "amendments = dataset.query('category == \"amendment\"')"
   ]
  },
  {
   "cell_type": "code",
   "execution_count": 12,
   "metadata": {},
   "outputs": [
    {
     "data": {
      "text/html": [
       "<div>\n",
       "<style scoped>\n",
       "    .dataframe tbody tr th:only-of-type {\n",
       "        vertical-align: middle;\n",
       "    }\n",
       "\n",
       "    .dataframe tbody tr th {\n",
       "        vertical-align: top;\n",
       "    }\n",
       "\n",
       "    .dataframe thead th {\n",
       "        text-align: right;\n",
       "    }\n",
       "</style>\n",
       "<table border=\"1\" class=\"dataframe\">\n",
       "  <thead>\n",
       "    <tr style=\"text-align: right;\">\n",
       "      <th></th>\n",
       "      <th>Congress</th>\n",
       "      <th>bill_number</th>\n",
       "      <th>bill_type</th>\n",
       "      <th>action</th>\n",
       "      <th>main_action</th>\n",
       "      <th>category</th>\n",
       "      <th>member_id</th>\n",
       "    </tr>\n",
       "  </thead>\n",
       "  <tbody>\n",
       "    <tr>\n",
       "      <th>38</th>\n",
       "      <td>116</td>\n",
       "      <td>1</td>\n",
       "      <td>s</td>\n",
       "      <td>Motion by Senator McConnell to reconsider the ...</td>\n",
       "      <td>senate floor actions</td>\n",
       "      <td>senate bill</td>\n",
       "      <td>858</td>\n",
       "    </tr>\n",
       "    <tr>\n",
       "      <th>39</th>\n",
       "      <td>116</td>\n",
       "      <td>1</td>\n",
       "      <td>s</td>\n",
       "      <td>Motion by Senator McConnell to reconsider the ...</td>\n",
       "      <td>senate floor actions</td>\n",
       "      <td>senate bill</td>\n",
       "      <td>858</td>\n",
       "    </tr>\n",
       "    <tr>\n",
       "      <th>40</th>\n",
       "      <td>116</td>\n",
       "      <td>1</td>\n",
       "      <td>s</td>\n",
       "      <td>Motion by Senator McConnell to reconsider the ...</td>\n",
       "      <td>senate floor actions</td>\n",
       "      <td>senate bill</td>\n",
       "      <td>858</td>\n",
       "    </tr>\n",
       "    <tr>\n",
       "      <th>41</th>\n",
       "      <td>116</td>\n",
       "      <td>1</td>\n",
       "      <td>s</td>\n",
       "      <td>Motion by Senator McConnell to reconsider the ...</td>\n",
       "      <td>senate floor actions</td>\n",
       "      <td>senate bill</td>\n",
       "      <td>858</td>\n",
       "    </tr>\n",
       "    <tr>\n",
       "      <th>268</th>\n",
       "      <td>116</td>\n",
       "      <td>2657</td>\n",
       "      <td>s</td>\n",
       "      <td>Motion by Senator McConnell to reconsider the ...</td>\n",
       "      <td>senate floor actions</td>\n",
       "      <td>senate bill</td>\n",
       "      <td>858</td>\n",
       "    </tr>\n",
       "    <tr>\n",
       "      <th>269</th>\n",
       "      <td>116</td>\n",
       "      <td>2657</td>\n",
       "      <td>s</td>\n",
       "      <td>S.Amdt.1407 Motion by Senator McConnell to rec...</td>\n",
       "      <td>other senate amendment actions</td>\n",
       "      <td>amendment</td>\n",
       "      <td>858</td>\n",
       "    </tr>\n",
       "    <tr>\n",
       "      <th>400</th>\n",
       "      <td>116</td>\n",
       "      <td>3985</td>\n",
       "      <td>s</td>\n",
       "      <td>Motion by Senator McConnell to reconsider the ...</td>\n",
       "      <td>senate floor actions</td>\n",
       "      <td>senate bill</td>\n",
       "      <td>858</td>\n",
       "    </tr>\n",
       "    <tr>\n",
       "      <th>548</th>\n",
       "      <td>116</td>\n",
       "      <td>50</td>\n",
       "      <td>sres</td>\n",
       "      <td>Motion by Senator McConnell to reconsider the ...</td>\n",
       "      <td>senate floor actions</td>\n",
       "      <td>senate resolution</td>\n",
       "      <td>858</td>\n",
       "    </tr>\n",
       "    <tr>\n",
       "      <th>823</th>\n",
       "      <td>116</td>\n",
       "      <td>28</td>\n",
       "      <td>hjres</td>\n",
       "      <td>VITIATION OF EARLIER PROCEEDINGS - Mr. Hoyer a...</td>\n",
       "      <td>house floor actions</td>\n",
       "      <td>house joint resolution</td>\n",
       "      <td>1065</td>\n",
       "    </tr>\n",
       "    <tr>\n",
       "      <th>1023</th>\n",
       "      <td>116</td>\n",
       "      <td>758</td>\n",
       "      <td>hres</td>\n",
       "      <td>Mr. Nadler moved to table the motion to recons...</td>\n",
       "      <td>house floor actions</td>\n",
       "      <td>house resolution</td>\n",
       "      <td>546</td>\n",
       "    </tr>\n",
       "    <tr>\n",
       "      <th>1024</th>\n",
       "      <td>116</td>\n",
       "      <td>758</td>\n",
       "      <td>hres</td>\n",
       "      <td>Mr. McGovern moved to reconsider the vote.</td>\n",
       "      <td>house floor actions</td>\n",
       "      <td>house resolution</td>\n",
       "      <td>515</td>\n",
       "    </tr>\n",
       "    <tr>\n",
       "      <th>1036</th>\n",
       "      <td>116</td>\n",
       "      <td>77</td>\n",
       "      <td>hres</td>\n",
       "      <td>Mr. Hoyer moved to table motion to reconsider.</td>\n",
       "      <td>house floor actions</td>\n",
       "      <td>house resolution</td>\n",
       "      <td>1065</td>\n",
       "    </tr>\n",
       "    <tr>\n",
       "      <th>1038</th>\n",
       "      <td>116</td>\n",
       "      <td>77</td>\n",
       "      <td>hres</td>\n",
       "      <td>Mr. Harris objected to the motion to reconside...</td>\n",
       "      <td>house floor actions</td>\n",
       "      <td>house resolution</td>\n",
       "      <td>1244</td>\n",
       "    </tr>\n",
       "    <tr>\n",
       "      <th>1478</th>\n",
       "      <td>116</td>\n",
       "      <td>748</td>\n",
       "      <td>hr</td>\n",
       "      <td>Motion by Senator McConnell to reconsider the ...</td>\n",
       "      <td>senate floor actions</td>\n",
       "      <td>house bill</td>\n",
       "      <td>858</td>\n",
       "    </tr>\n",
       "    <tr>\n",
       "      <th>1479</th>\n",
       "      <td>116</td>\n",
       "      <td>748</td>\n",
       "      <td>hr</td>\n",
       "      <td>Motion by Senator McConnell to reconsider the ...</td>\n",
       "      <td>senate floor actions</td>\n",
       "      <td>house bill</td>\n",
       "      <td>858</td>\n",
       "    </tr>\n",
       "    <tr>\n",
       "      <th>2122</th>\n",
       "      <td>116</td>\n",
       "      <td>268</td>\n",
       "      <td>hr</td>\n",
       "      <td>Motion by Senator McConnell to reconsider the ...</td>\n",
       "      <td>senate floor actions</td>\n",
       "      <td>house bill</td>\n",
       "      <td>858</td>\n",
       "    </tr>\n",
       "    <tr>\n",
       "      <th>2123</th>\n",
       "      <td>116</td>\n",
       "      <td>268</td>\n",
       "      <td>hr</td>\n",
       "      <td>S.Amdt.201 Motion by Senator McConnell to reco...</td>\n",
       "      <td>other senate amendment actions</td>\n",
       "      <td>amendment</td>\n",
       "      <td>858</td>\n",
       "    </tr>\n",
       "    <tr>\n",
       "      <th>2155</th>\n",
       "      <td>116</td>\n",
       "      <td>2740</td>\n",
       "      <td>hr</td>\n",
       "      <td>Motion by Senator McConnell to reconsider the ...</td>\n",
       "      <td>senate floor actions</td>\n",
       "      <td>house bill</td>\n",
       "      <td>858</td>\n",
       "    </tr>\n",
       "    <tr>\n",
       "      <th>2156</th>\n",
       "      <td>116</td>\n",
       "      <td>2740</td>\n",
       "      <td>hr</td>\n",
       "      <td>Motion by Senator McConnell to reconsider the ...</td>\n",
       "      <td>senate floor actions</td>\n",
       "      <td>house bill</td>\n",
       "      <td>858</td>\n",
       "    </tr>\n",
       "    <tr>\n",
       "      <th>2803</th>\n",
       "      <td>116</td>\n",
       "      <td>5038</td>\n",
       "      <td>hr</td>\n",
       "      <td>Mr. McGovern moved to table the motion to reco...</td>\n",
       "      <td>house floor actions</td>\n",
       "      <td>house bill</td>\n",
       "      <td>515</td>\n",
       "    </tr>\n",
       "    <tr>\n",
       "      <th>2804</th>\n",
       "      <td>116</td>\n",
       "      <td>5038</td>\n",
       "      <td>hr</td>\n",
       "      <td>Ms. Lofgren moved to reconsider the vote.</td>\n",
       "      <td>house floor actions</td>\n",
       "      <td>house bill</td>\n",
       "      <td>1230</td>\n",
       "    </tr>\n",
       "    <tr>\n",
       "      <th>2998</th>\n",
       "      <td>116</td>\n",
       "      <td>729</td>\n",
       "      <td>hr</td>\n",
       "      <td>POSTPONED PROCEEDINGS - The Chair put the ques...</td>\n",
       "      <td>house floor actions</td>\n",
       "      <td>house bill</td>\n",
       "      <td>1244</td>\n",
       "    </tr>\n",
       "    <tr>\n",
       "      <th>2999</th>\n",
       "      <td>116</td>\n",
       "      <td>729</td>\n",
       "      <td>hr</td>\n",
       "      <td>Ms. McCollum moved to table the motion to reco...</td>\n",
       "      <td>house floor actions</td>\n",
       "      <td>house bill</td>\n",
       "      <td>1267</td>\n",
       "    </tr>\n",
       "    <tr>\n",
       "      <th>3000</th>\n",
       "      <td>116</td>\n",
       "      <td>729</td>\n",
       "      <td>hr</td>\n",
       "      <td>Mr. Himes moved to reconsider the vote.</td>\n",
       "      <td>house floor actions</td>\n",
       "      <td>house bill</td>\n",
       "      <td>496</td>\n",
       "    </tr>\n",
       "  </tbody>\n",
       "</table>\n",
       "</div>"
      ],
      "text/plain": [
       "      Congress  bill_number bill_type  \\\n",
       "38         116            1         s   \n",
       "39         116            1         s   \n",
       "40         116            1         s   \n",
       "41         116            1         s   \n",
       "268        116         2657         s   \n",
       "269        116         2657         s   \n",
       "400        116         3985         s   \n",
       "548        116           50      sres   \n",
       "823        116           28     hjres   \n",
       "1023       116          758      hres   \n",
       "1024       116          758      hres   \n",
       "1036       116           77      hres   \n",
       "1038       116           77      hres   \n",
       "1478       116          748        hr   \n",
       "1479       116          748        hr   \n",
       "2122       116          268        hr   \n",
       "2123       116          268        hr   \n",
       "2155       116         2740        hr   \n",
       "2156       116         2740        hr   \n",
       "2803       116         5038        hr   \n",
       "2804       116         5038        hr   \n",
       "2998       116          729        hr   \n",
       "2999       116          729        hr   \n",
       "3000       116          729        hr   \n",
       "\n",
       "                                                 action  \\\n",
       "38    Motion by Senator McConnell to reconsider the ...   \n",
       "39    Motion by Senator McConnell to reconsider the ...   \n",
       "40    Motion by Senator McConnell to reconsider the ...   \n",
       "41    Motion by Senator McConnell to reconsider the ...   \n",
       "268   Motion by Senator McConnell to reconsider the ...   \n",
       "269   S.Amdt.1407 Motion by Senator McConnell to rec...   \n",
       "400   Motion by Senator McConnell to reconsider the ...   \n",
       "548   Motion by Senator McConnell to reconsider the ...   \n",
       "823   VITIATION OF EARLIER PROCEEDINGS - Mr. Hoyer a...   \n",
       "1023  Mr. Nadler moved to table the motion to recons...   \n",
       "1024         Mr. McGovern moved to reconsider the vote.   \n",
       "1036     Mr. Hoyer moved to table motion to reconsider.   \n",
       "1038  Mr. Harris objected to the motion to reconside...   \n",
       "1478  Motion by Senator McConnell to reconsider the ...   \n",
       "1479  Motion by Senator McConnell to reconsider the ...   \n",
       "2122  Motion by Senator McConnell to reconsider the ...   \n",
       "2123  S.Amdt.201 Motion by Senator McConnell to reco...   \n",
       "2155  Motion by Senator McConnell to reconsider the ...   \n",
       "2156  Motion by Senator McConnell to reconsider the ...   \n",
       "2803  Mr. McGovern moved to table the motion to reco...   \n",
       "2804          Ms. Lofgren moved to reconsider the vote.   \n",
       "2998  POSTPONED PROCEEDINGS - The Chair put the ques...   \n",
       "2999  Ms. McCollum moved to table the motion to reco...   \n",
       "3000            Mr. Himes moved to reconsider the vote.   \n",
       "\n",
       "                         main_action                category  member_id  \n",
       "38              senate floor actions             senate bill        858  \n",
       "39              senate floor actions             senate bill        858  \n",
       "40              senate floor actions             senate bill        858  \n",
       "41              senate floor actions             senate bill        858  \n",
       "268             senate floor actions             senate bill        858  \n",
       "269   other senate amendment actions               amendment        858  \n",
       "400             senate floor actions             senate bill        858  \n",
       "548             senate floor actions       senate resolution        858  \n",
       "823              house floor actions  house joint resolution       1065  \n",
       "1023             house floor actions        house resolution        546  \n",
       "1024             house floor actions        house resolution        515  \n",
       "1036             house floor actions        house resolution       1065  \n",
       "1038             house floor actions        house resolution       1244  \n",
       "1478            senate floor actions              house bill        858  \n",
       "1479            senate floor actions              house bill        858  \n",
       "2122            senate floor actions              house bill        858  \n",
       "2123  other senate amendment actions               amendment        858  \n",
       "2155            senate floor actions              house bill        858  \n",
       "2156            senate floor actions              house bill        858  \n",
       "2803             house floor actions              house bill        515  \n",
       "2804             house floor actions              house bill       1230  \n",
       "2998             house floor actions              house bill       1244  \n",
       "2999             house floor actions              house bill       1267  \n",
       "3000             house floor actions              house bill        496  "
      ]
     },
     "execution_count": 12,
     "metadata": {},
     "output_type": "execute_result"
    }
   ],
   "source": [
    "dataset[dataset['action'].str.contains('to reconsider')]"
   ]
  },
  {
   "attachments": {},
   "cell_type": "markdown",
   "metadata": {},
   "source": [
    "<font size = \"5\">\n",
    "\n",
    "Search word"
   ]
  },
  {
   "cell_type": "code",
   "execution_count": 13,
   "metadata": {},
   "outputs": [
    {
     "data": {
      "text/plain": [
       "0       [Amdt.1274 ]\n",
       "1       [Amdt.2698 ]\n",
       "2       [Amdt.2659 ]\n",
       "8       [Amdt.2424 ]\n",
       "11      [Amdt.1275 ]\n",
       "            ...     \n",
       "3298     [Amdt.172 ]\n",
       "3299     [Amdt.171 ]\n",
       "3300     [Amdt.170 ]\n",
       "3301              []\n",
       "3302     [Amdt.169 ]\n",
       "Name: action, Length: 1529, dtype: object"
      ]
     },
     "execution_count": 13,
     "metadata": {},
     "output_type": "execute_result"
    }
   ],
   "source": [
    "# We use the \".str.findall()\" subfunction\n",
    "# The argument is an expression\n",
    "import re\n",
    "\n",
    "amendments[\"action\"].str.findall(r\"Amdt\\.\\d+\\D\")\n"
   ]
  },
  {
   "attachments": {},
   "cell_type": "markdown",
   "metadata": {},
   "source": [
    "<font size = \"5\">\n",
    "\n",
    "Wildcards\n",
    "\n",
    "$\\quad$ <img src=\"figures/wildcards_regex1.png\" alt=\"drawing\" width=\"300\"/>"
   ]
  },
  {
   "cell_type": "code",
   "execution_count": 14,
   "metadata": {},
   "outputs": [
    {
     "data": {
      "text/plain": [
       "0       [Amdt.1274]\n",
       "1       [Amdt.2698]\n",
       "2       [Amdt.2659]\n",
       "8       [Amdt.2424]\n",
       "11      [Amdt.1275]\n",
       "           ...     \n",
       "3298     [Amdt.172]\n",
       "3299     [Amdt.171]\n",
       "3300     [Amdt.170]\n",
       "3301             []\n",
       "3302     [Amdt.169]\n",
       "Name: action, Length: 1529, dtype: object"
      ]
     },
     "execution_count": 14,
     "metadata": {},
     "output_type": "execute_result"
    }
   ],
   "source": [
    "# Get digits after string\n",
    "amendments[\"action\"].str.findall(r\"Amdt\\.\\d+\")"
   ]
  },
  {
   "cell_type": "code",
   "execution_count": 15,
   "metadata": {},
   "outputs": [
    {
     "data": {
      "text/plain": [
       "0       [Amdt.]\n",
       "1       [Amdt.]\n",
       "2       [Amdt.]\n",
       "8       [Amdt.]\n",
       "11      [Amdt.]\n",
       "         ...   \n",
       "3298    [Amdt.]\n",
       "3299    [Amdt.]\n",
       "3300    [Amdt.]\n",
       "3301         []\n",
       "3302    [Amdt.]\n",
       "Name: action, Length: 1529, dtype: object"
      ]
     },
     "execution_count": 15,
     "metadata": {},
     "output_type": "execute_result"
    }
   ],
   "source": [
    "# Get any character before string\n",
    "amendments[\"action\"].str.findall(r\"\\wmdt\\.\")"
   ]
  },
  {
   "cell_type": "code",
   "execution_count": 16,
   "metadata": {},
   "outputs": [
    {
     "data": {
      "text/plain": [
       "0       [Amdt.1274]\n",
       "1       [Amdt.2698]\n",
       "2       [Amdt.2659]\n",
       "8       [Amdt.2424]\n",
       "11      [Amdt.1275]\n",
       "           ...     \n",
       "3298             []\n",
       "3299             []\n",
       "3300             []\n",
       "3301             []\n",
       "3302             []\n",
       "Name: action, Length: 1529, dtype: object"
      ]
     },
     "execution_count": 16,
     "metadata": {},
     "output_type": "execute_result"
    }
   ],
   "source": [
    "# Get two characters before string and four characters after string\n",
    "amendments[\"action\"].str.findall(r\"\\w{2}dt\\.\\w{4}\")"
   ]
  },
  {
   "attachments": {},
   "cell_type": "markdown",
   "metadata": {},
   "source": [
    "<font size = \"5\">\n",
    "\n",
    "Wildcards + Quantifiers\n",
    "\n",
    "$\\quad$ <img src=\"figures/wildcards_regex2.png\" alt=\"drawing\" width=\"300\"/>"
   ]
  },
  {
   "cell_type": "code",
   "execution_count": 17,
   "metadata": {},
   "outputs": [
    {
     "data": {
      "text/plain": [
       "0       [S.Amdt.1274]\n",
       "1       [S.Amdt.2698]\n",
       "2       [S.Amdt.2659]\n",
       "8       [S.Amdt.2424]\n",
       "11      [S.Amdt.1275]\n",
       "            ...      \n",
       "3298     [H.Amdt.172]\n",
       "3299     [H.Amdt.171]\n",
       "3300     [H.Amdt.170]\n",
       "3301               []\n",
       "3302     [H.Amdt.169]\n",
       "Name: action, Length: 1529, dtype: object"
      ]
     },
     "execution_count": 17,
     "metadata": {},
     "output_type": "execute_result"
    }
   ],
   "source": [
    "# Match any characters (including none) before \"Amdt\" followed by non-whitespace\n",
    "amendments[\"action\"].str.findall(r\".*Amdt\\S*\")"
   ]
  },
  {
   "cell_type": "code",
   "execution_count": 18,
   "metadata": {},
   "outputs": [
    {
     "data": {
      "text/plain": [
       "0       [Amdt.1274]\n",
       "1       [Amdt.2698]\n",
       "2       [Amdt.2659]\n",
       "8       [Amdt.2424]\n",
       "11      [Amdt.1275]\n",
       "           ...     \n",
       "3298     [Amdt.172]\n",
       "3299     [Amdt.171]\n",
       "3300     [Amdt.170]\n",
       "3301             []\n",
       "3302     [Amdt.169]\n",
       "Name: action, Length: 1529, dtype: object"
      ]
     },
     "execution_count": 18,
     "metadata": {},
     "output_type": "execute_result"
    }
   ],
   "source": [
    "# Get all consecutive digits after string\n",
    "amendments[\"action\"].str.findall(r\"Amdt\\.\\d+\")"
   ]
  },
  {
   "attachments": {},
   "cell_type": "markdown",
   "metadata": {},
   "source": [
    "<font size = \"5\">\n",
    "\n",
    "Try it yourself\n",
    "\n",
    "- Practice using the ```senate_bills``` dataset\n",
    "- Use ```.str.findall()``` to find the word \"Senator\"\n",
    "- Use the regular expression ```\"Senator \\S\"``` to extract the the first letter of senator\n",
    "- Use ```*``` to extract senator names"
   ]
  },
  {
   "cell_type": "code",
   "execution_count": 19,
   "metadata": {},
   "outputs": [],
   "source": [
    "# Write your own code"
   ]
  }
 ],
 "metadata": {
  "kernelspec": {
   "display_name": "base",
   "language": "python",
   "name": "python3"
  },
  "language_info": {
   "codemirror_mode": {
    "name": "ipython",
    "version": 3
   },
   "file_extension": ".py",
   "mimetype": "text/x-python",
   "name": "python",
   "nbconvert_exporter": "python",
   "pygments_lexer": "ipython3",
   "version": "3.12.2"
  },
  "orig_nbformat": 4
 },
 "nbformat": 4,
 "nbformat_minor": 2
}
