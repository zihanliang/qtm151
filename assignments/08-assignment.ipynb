{
 "cells": [
  {
   "cell_type": "markdown",
   "metadata": {},
   "source": [
    "# Assignment 08"
   ]
  },
  {
   "cell_type": "markdown",
   "metadata": {},
   "source": [
    "## Try to submit the assignment as an html file"
   ]
  },
  {
   "cell_type": "markdown",
   "metadata": {},
   "source": [
    "### Print your Emory code below"
   ]
  },
  {
   "cell_type": "code",
   "execution_count": 9,
   "metadata": {},
   "outputs": [
    {
     "name": "stdout",
     "output_type": "stream",
     "text": [
      "2609381\n"
     ]
    }
   ],
   "source": [
    "# Write your answer here\n",
    "print(\"2609381\")"
   ]
  },
  {
   "cell_type": "markdown",
   "metadata": {},
   "source": [
    "### Import the pandas, numpy, and matplotlib.pyplot libraries"
   ]
  },
  {
   "cell_type": "code",
   "execution_count": 10,
   "metadata": {},
   "outputs": [],
   "source": [
    "# Write your answer here\n",
    "import pandas as pd\n",
    "import numpy as np\n",
    "import matplotlib.pyplot as plt"
   ]
  },
  {
   "cell_type": "markdown",
   "metadata": {},
   "source": [
    "### This script creates a DataFrame with driver data for questions (a)-(d). Please execute the code and check the DataFrame."
   ]
  },
  {
   "cell_type": "code",
   "execution_count": 11,
   "metadata": {},
   "outputs": [
    {
     "name": "stdout",
     "output_type": "stream",
     "text": [
      "   driver_id         driver_name nationality  lap_times\n",
      "0          1        Simon Cowell     British         74\n",
      "1          2     Fernando Alonso     Spanish         26\n",
      "2          3       Heinrich Bach      German         82\n",
      "3          4     Giorgio Soprano     Spanish         87\n",
      "4          5      Lewis Hamilton     British        103\n",
      "5          6        Henry Louvre     British         32\n",
      "6          7    Sebastian Vettel      German         91\n",
      "7          8          Lukas Zech      German         53\n",
      "8          9         Donic Kovak      German         11\n",
      "9         10  Michael Holzmieter      German         24\n"
     ]
    }
   ],
   "source": [
    "# Create the homework_data DataFrame\n",
    "homework_data = pd.DataFrame({\n",
    "    'driver_id': [1, 2, 3, 4, 5, 6, 7, 8, 9, 10],\n",
    "    'driver_name': [\n",
    "        'Simon Cowell', 'Fernando Alonso', 'Heinrich Bach',\n",
    "        'Giorgio Soprano', 'Lewis Hamilton', 'Henry Louvre',\n",
    "        'Sebastian Vettel', 'Lukas Zech', 'Donic Kovak',\n",
    "        'Michael Holzmieter'\n",
    "    ],\n",
    "    'nationality': [\n",
    "        'British', 'Spanish', 'German', 'Spanish', 'British',\n",
    "        'British', 'German', 'German', 'German', 'German'\n",
    "    ],\n",
    "    'lap_times': [74, 26, 82, 87, 103, 32, 91, 53, 11, 24]\n",
    "})\n",
    "\n",
    "# Display the DataFrame to verify entries\n",
    "print(homework_data)\n"
   ]
  },
  {
   "cell_type": "markdown",
   "metadata": {},
   "source": [
    "<font size = \"5\">\n",
    "\n",
    "(a) Subset and Sort\n",
    "\n",
    "<font size = \"3\">\n",
    "\n",
    "- Use pandas to filter drivers whose nationality is British using `query`.\n",
    "- Sort the resulting DataFrame in ascending order by `driver_name` using `sort_values`.\n"
   ]
  },
  {
   "cell_type": "code",
   "execution_count": 12,
   "metadata": {},
   "outputs": [
    {
     "name": "stdout",
     "output_type": "stream",
     "text": [
      "   driver_id     driver_name nationality  lap_times\n",
      "5          6    Henry Louvre     British         32\n",
      "4          5  Lewis Hamilton     British        103\n",
      "0          1    Simon Cowell     British         74\n"
     ]
    }
   ],
   "source": [
    "# Write your answer here\n",
    "british_drivers = homework_data.query(\"nationality == 'British'\").sort_values(by='driver_name')\n",
    "print(british_drivers)"
   ]
  },
  {
   "cell_type": "markdown",
   "metadata": {},
   "source": [
    "<font size = \"5\">\n",
    "\n",
    "(b) Count Unique Values\n",
    "\n",
    "<font size = \"3\">\n",
    "\n",
    "- Count the number of unique nationalities in the dataset using `nunique`.\n",
    "- Count the total number of rows in the dataset using `shape`.\n",
    "- Assign clear variable names to these counts.\n"
   ]
  },
  {
   "cell_type": "code",
   "execution_count": 13,
   "metadata": {},
   "outputs": [
    {
     "name": "stdout",
     "output_type": "stream",
     "text": [
      "Number of unique nationalities: 3\n",
      "Total number of rows: 10\n"
     ]
    }
   ],
   "source": [
    "# Write your answer here\n",
    "unique_nationalities_count = homework_data['nationality'].nunique()\n",
    "total_rows_count = homework_data.shape[0]\n",
    "print(\"Number of unique nationalities:\", unique_nationalities_count)\n",
    "print(\"Total number of rows:\", total_rows_count)"
   ]
  },
  {
   "cell_type": "markdown",
   "metadata": {},
   "source": [
    "<font size = \"5\">\n",
    "\n",
    "(c) Groupby and Aggregate\n",
    "\n",
    "<font size = \"3\">\n",
    "\n",
    "- Calculate the average of `lap_times` grouped by `driver_id` using `groupby` and `agg`.\n",
    "- Reset the index of the resulting DataFrame.\n",
    "- Sort the results by the average `lap_times`."
   ]
  },
  {
   "cell_type": "code",
   "execution_count": 14,
   "metadata": {},
   "outputs": [
    {
     "name": "stdout",
     "output_type": "stream",
     "text": [
      "   driver_id  lap_times\n",
      "8          9       11.0\n",
      "9         10       24.0\n",
      "1          2       26.0\n",
      "5          6       32.0\n",
      "7          8       53.0\n",
      "0          1       74.0\n",
      "2          3       82.0\n",
      "3          4       87.0\n",
      "6          7       91.0\n",
      "4          5      103.0\n"
     ]
    }
   ],
   "source": [
    "# Write your answer here\n",
    "average_lap_times = homework_data.groupby('driver_id').agg({'lap_times': 'mean'}).reset_index()\n",
    "sorted_average_lap_times = average_lap_times.sort_values(by='lap_times')\n",
    "print(sorted_average_lap_times)"
   ]
  },
  {
   "cell_type": "markdown",
   "metadata": {},
   "source": [
    "<font size = \"5\">\n",
    "\n",
    "(d) Groupby, Aggregate, and Filter\n",
    "\n",
    "<font size = \"3\">\n",
    "\n",
    "- Calculate the sum of `lap_times` grouped by `nationality` using `groupby` and `agg`.\n",
    "- Filter nationalities with a sum of `lap_times` strictly higher than 150 using `query`.\n"
   ]
  },
  {
   "cell_type": "code",
   "execution_count": 15,
   "metadata": {},
   "outputs": [
    {
     "name": "stdout",
     "output_type": "stream",
     "text": [
      "  nationality  lap_times\n",
      "0     British        209\n",
      "1      German        261\n"
     ]
    }
   ],
   "source": [
    "# Write your answer here\n",
    "lap_times_sum = homework_data.groupby('nationality').agg({'lap_times': 'sum'}).reset_index()\n",
    "filtered_nationalities = lap_times_sum.query(\"lap_times > 150\")\n",
    "print(filtered_nationalities)"
   ]
  },
  {
   "cell_type": "markdown",
   "metadata": {},
   "source": [
    "<font size = \"5\">\n",
    "\n",
    "(e) Plot\n",
    "\n",
    "<font size = \"3\">\n",
    "\n",
    "- Plot the average `lap_times` grouped by `driver_id` using `plot` and `kind='bar'`.\n",
    "- Set the title of the plot to '`Average Lap Times by Driver ID`'.\n",
    "- Set the x-axis label to '`Driver ID`'.\n",
    "- Set the y-axis label to '`Average Lap Time`'."
   ]
  },
  {
   "cell_type": "code",
   "execution_count": 16,
   "metadata": {},
   "outputs": [
    {
     "data": {
      "image/png": "[encoded data removed]",
      "text/plain": [
       "<Figure size 640x480 with 1 Axes>"
      ]
     },
     "metadata": {},
     "output_type": "display_data"
    }
   ],
   "source": [
    "# Write your answer here\n",
    "average_lap_times = homework_data.groupby('driver_id').agg({'lap_times': 'mean'}).reset_index()\n",
    "average_lap_times.plot(x='driver_id', y='lap_times', kind='bar')\n",
    "plt.title('Average Lap Times by Driver ID')\n",
    "plt.xlabel('Driver ID')\n",
    "plt.ylabel('Average Lap Time')\n",
    "plt.show()"
   ]
  }
 ],
 "metadata": {
  "kernelspec": {
   "display_name": "base",
   "language": "python",
   "name": "python3"
  },
  "language_info": {
   "codemirror_mode": {
    "name": "ipython",
    "version": 3
   },
   "file_extension": ".py",
   "mimetype": "text/x-python",
   "name": "python",
   "nbconvert_exporter": "python",
   "pygments_lexer": "ipython3",
   "version": "3.12.4"
  }
 },
 "nbformat": 4,
 "nbformat_minor": 2
}
