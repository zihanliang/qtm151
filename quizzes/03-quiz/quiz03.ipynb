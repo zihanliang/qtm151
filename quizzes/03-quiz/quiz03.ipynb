{
 "cells": [
  {
   "attachments": {},
   "cell_type": "markdown",
   "metadata": {},
   "source": [
    "## QTM 151 - Quiz 03"
   ]
  },
  {
   "attachments": {},
   "cell_type": "markdown",
   "metadata": {},
   "source": [
    "### Try to submit as an HTML file"
   ]
  },
  {
   "attachments": {},
   "cell_type": "markdown",
   "metadata": {},
   "source": [
    "### Print your name below"
   ]
  },
  {
   "cell_type": "code",
   "execution_count": 1,
   "metadata": {},
   "outputs": [
    {
     "name": "stdout",
     "output_type": "stream",
     "text": [
      "Zihan Liang\n"
     ]
    }
   ],
   "source": [
    "# Write your answer here\n",
    "print(\"Zihan Liang\")"
   ]
  },
  {
   "attachments": {},
   "cell_type": "markdown",
   "metadata": {},
   "source": [
    "<font size = \"3\" >\n",
    "This quiz is open book \n",
    "\n",
    "- You can use the lecture notes\n",
    "- You will get partial credit for attempting the questions\n",
    "- To get full credit, the code should run as intended\n",
    "- You should <span style=\"color:red\"> NOT </span> communicate with other students\n",
    "\n",
    "Print the following message: <br>\n",
    "\n",
    "\"I will abide by Emory's code of conduct\"\n"
   ]
  },
  {
   "cell_type": "code",
   "execution_count": 2,
   "metadata": {},
   "outputs": [
    {
     "name": "stdout",
     "output_type": "stream",
     "text": [
      "I will abide by Emory's code of conduct\n"
     ]
    }
   ],
   "source": [
    "# Write your answer here:\n",
    "print(\"I will abide by Emory's code of conduct\")"
   ]
  },
  {
   "attachments": {},
   "cell_type": "markdown",
   "metadata": {},
   "source": [
    "<font size = \"3\">\n",
    "\n",
    "Import the libraries \"numpy\" and \"pandas\""
   ]
  },
  {
   "cell_type": "code",
   "execution_count": 3,
   "metadata": {},
   "outputs": [],
   "source": [
    "# Write your answer here\n",
    "import numpy as np\n",
    "import pandas as pd"
   ]
  },
  {
   "cell_type": "markdown",
   "metadata": {},
   "source": [
    "\n",
    "<font size = \"3\">\n",
    "\n",
    "(a) Replace the values of a column\n",
    "\n",
    "- Import the `data_quiz/constructors.csv` file\n",
    "- Replace the values `British`, `American`, and `Dutch` with `UK`, `USA`, `Netherlands` in the column `nationality`\n",
    "\n",
    "\n",
    "HINT: See the example in Lecture 12"
   ]
  },
  {
   "cell_type": "code",
   "execution_count": 4,
   "metadata": {},
   "outputs": [
    {
     "name": "stdout",
     "output_type": "stream",
     "text": [
      "     constructorId constructorRef            name nationality  \\\n",
      "0                1        mclaren         McLaren          UK   \n",
      "1                2     bmw_sauber      BMW Sauber      German   \n",
      "2                3       williams        Williams          UK   \n",
      "3                4        renault         Renault      French   \n",
      "4                5     toro_rosso      Toro Rosso     Italian   \n",
      "..             ...            ...             ...         ...   \n",
      "206            209          manor  Manor Marussia          UK   \n",
      "207            210           haas    Haas F1 Team         USA   \n",
      "208            211   racing_point    Racing Point          UK   \n",
      "209            213     alphatauri      AlphaTauri     Italian   \n",
      "210            214         alpine  Alpine F1 Team      French   \n",
      "\n",
      "                                                   url  \n",
      "0                 http://en.wikipedia.org/wiki/McLaren  \n",
      "1              http://en.wikipedia.org/wiki/BMW_Sauber  \n",
      "2    http://en.wikipedia.org/wiki/Williams_Grand_Pr...  \n",
      "3    http://en.wikipedia.org/wiki/Renault_in_Formul...  \n",
      "4     http://en.wikipedia.org/wiki/Scuderia_Toro_Rosso  \n",
      "..                                                 ...  \n",
      "206      http://en.wikipedia.org/wiki/Manor_Motorsport  \n",
      "207          http://en.wikipedia.org/wiki/Haas_F1_Team  \n",
      "208  http://en.wikipedia.org/wiki/Racing_Point_F1_Team  \n",
      "209   http://en.wikipedia.org/wiki/Scuderia_AlphaTauri  \n",
      "210        http://en.wikipedia.org/wiki/Alpine_F1_Team  \n",
      "\n",
      "[211 rows x 5 columns]\n"
     ]
    }
   ],
   "source": [
    "# Write your own code\n",
    "df = pd.read_csv('data_quiz/constructors.csv')\n",
    "\n",
    "df['nationality'] = df['nationality'].replace({\n",
    "    'British': 'UK',\n",
    "    'American': 'USA',\n",
    "    'Dutch': 'Netherlands'\n",
    "})\n",
    "\n",
    "print(df)"
   ]
  },
  {
   "cell_type": "markdown",
   "metadata": {},
   "source": [
    "<font size = \"3\">\n",
    "\n",
    "\n",
    "**For questions (b)-(e):**\n",
    "\n",
    "**Import the `data_quiz/sprint_results.csv` file** \n",
    "\n",
    "(b) Recode a numeric colum\n",
    "\n",
    "- Recode the `points` column into a new column `points_brackets` with the following categories\n",
    "\n",
    "$\\qquad$ ``` [\"0-20\",\"21-30\",\"31-100\"] ```\n",
    "\n",
    "$\\qquad$ HINT: Use the `pd.cut()` command. See Lecture 12 <br>\n",
    "$\\qquad$ HINT: Be careful about the left and right points of <br>\n",
    "$\\qquad$ interval to make sure that you classify the points correctly"
   ]
  },
  {
   "cell_type": "code",
   "execution_count": 5,
   "metadata": {},
   "outputs": [
    {
     "name": "stdout",
     "output_type": "stream",
     "text": [
      "     resultId  raceId  driverId  constructorId  number  grid position  \\\n",
      "0           1    1061       830              9      33     2        1   \n",
      "1           2    1061         1            131      44     1        2   \n",
      "2           3    1061       822            131      77     3        3   \n",
      "3           4    1061       844              6      16     4        4   \n",
      "4           5    1061       846              1       4     6        5   \n",
      "..        ...     ...       ...            ...     ...   ...      ...   \n",
      "115       116    1095       840            117      18    15       16   \n",
      "116       117    1095       839            214      31     6       17   \n",
      "117       118    1095         4            214      14     7       18   \n",
      "118       119    1095       849              3       6    16       19   \n",
      "119       120    1095       848              3      23    11       \\N   \n",
      "\n",
      "    positionText  positionOrder  points  laps       time milliseconds  \\\n",
      "0              1              1       3    17  25:38.426      1538426   \n",
      "1              2              2       2    17     +1.430      1539856   \n",
      "2              3              3       1    17     +7.502      1545928   \n",
      "3              4              4       0    17    +11.278      1549704   \n",
      "4              5              5       0    17    +24.111      1562537   \n",
      "..           ...            ...     ...   ...        ...          ...   \n",
      "115           16             16       0    24    +50.700      1862007   \n",
      "116           17             17       0    24    +51.756      1863063   \n",
      "117           18             18       0    24    +53.985      1865292   \n",
      "118           19             19       0    24  +1:16.850      1888157   \n",
      "119            R             20       0    12         \\N           \\N   \n",
      "\n",
      "    fastestLap fastestLapTime  statusId points_brackets  \n",
      "0           14       1:30.013         1            0-20  \n",
      "1           17       1:29.937         1            0-20  \n",
      "2           17       1:29.958         1            0-20  \n",
      "3           16       1:30.163         1             NaN  \n",
      "4           16       1:30.566         1             NaN  \n",
      "..         ...            ...       ...             ...  \n",
      "115          4       1:15.425         1             NaN  \n",
      "116          5       1:16.097         1             NaN  \n",
      "117          5       1:14.764         1             NaN  \n",
      "118          4       1:16.525         1             NaN  \n",
      "119          4       1:15.998        31             NaN  \n",
      "\n",
      "[120 rows x 17 columns]\n"
     ]
    }
   ],
   "source": [
    "# Write your own code:\n",
    "df = pd.read_csv('data_quiz/sprint_results.csv')\n",
    "bins = [0, 20, 30, 100]\n",
    "labels = [\"0-20\", \"21-30\", \"31-100\"]\n",
    "df['points_brackets'] = pd.cut(df['points'], bins=bins, labels=labels, right=True)\n",
    "print(df)"
   ]
  },
  {
   "cell_type": "markdown",
   "metadata": {},
   "source": [
    "(c) Aggregate and query\n",
    "\n",
    "- Subset the observations for `raceId <= 1070` using `.query()`\n",
    "- Obtain the maximum of `points` by `driverId` using `.groupby().agg()` and save this to <br>\n",
    "a new dataset called `aggregate_data`\n",
    "- From `aggregate_data` subset the drivers with a maximum number of points $>= 1$\n",
    "- Display the resulting dataset\n",
    "\n",
    "\n",
    "Hint: See Lecture 15"
   ]
  },
  {
   "cell_type": "code",
   "execution_count": 9,
   "metadata": {},
   "outputs": [
    {
     "name": "stdout",
     "output_type": "stream",
     "text": [
      "   driverId  max_points\n",
      "0         1           2\n",
      "6       817           1\n",
      "7       822           3\n",
      "8       830           3\n"
     ]
    }
   ],
   "source": [
    "# Write your own code\n",
    "df = pd.read_csv('data_quiz/sprint_results.csv')\n",
    "subset_df = df.query('raceId <= 1070')\n",
    "aggregate_data = subset_df.groupby('driverId').agg(max_points=('points', 'max')).reset_index()\n",
    "result = aggregate_data.query('max_points >= 1')\n",
    "print(result)"
   ]
  },
  {
   "cell_type": "markdown",
   "metadata": {},
   "source": [
    "<font size = \"3\">\n",
    "\n",
    "(d) Aggregate and sort\n",
    "\n",
    "- Obtain the mean of `points` by `driverId` using `.groupby().agg()`\n",
    "- Sort the drivers in descending order using of the mean of points using `.sort_values()`\n",
    "\n",
    "\n",
    "Hint: See Lecture 15"
   ]
  },
  {
   "cell_type": "code",
   "execution_count": null,
   "metadata": {},
   "outputs": [
    {
     "name": "stdout",
     "output_type": "stream",
     "text": [
      "    driverId  mean_points\n",
      "9        830     4.666667\n",
      "10       832     3.166667\n",
      "15       844     2.833333\n",
      "5        815     2.333333\n",
      "17       847     2.166667\n",
      "0          1     1.500000\n",
      "7        822     1.500000\n",
      "8        825     1.333333\n",
      "16       846     1.000000\n",
      "6        817     0.666667\n",
      "11       839     0.500000\n",
      "22       854     0.000000\n",
      "21       853     0.000000\n",
      "20       852     0.000000\n",
      "19       849     0.000000\n",
      "18       848     0.000000\n",
      "12       840     0.000000\n",
      "14       842     0.000000\n",
      "13       841     0.000000\n",
      "1          4     0.000000\n",
      "4         20     0.000000\n",
      "3          9     0.000000\n",
      "2          8     0.000000\n",
      "23       855     0.000000\n"
     ]
    }
   ],
   "source": [
    "# Write your own code\n",
    "df = pd.read_csv('data_quiz/sprint_results.csv')\n",
    "mean_points = df.groupby('driverId').agg(mean_points=('points', 'mean')).reset_index()\n",
    "sorted_mean_points = mean_points.sort_values(by='mean_points', ascending=False)\n",
    "print(sorted_mean_points)"
   ]
  },
  {
   "cell_type": "markdown",
   "metadata": {},
   "source": [
    "<font size = \"3\">\n",
    "\n",
    "(e) Rename column\n",
    "\n",
    "- Rename the column `grid` to `grid_placement`\n",
    "\n",
    "HINT: Create a dictionary and use `.rename(columns = ...)`\n",
    "\n",
    "See Lecture 15"
   ]
  },
  {
   "cell_type": "code",
   "execution_count": 10,
   "metadata": {},
   "outputs": [
    {
     "name": "stdout",
     "output_type": "stream",
     "text": [
      "     resultId  raceId  driverId  constructorId  number  grid_placement  \\\n",
      "0           1    1061       830              9      33               2   \n",
      "1           2    1061         1            131      44               1   \n",
      "2           3    1061       822            131      77               3   \n",
      "3           4    1061       844              6      16               4   \n",
      "4           5    1061       846              1       4               6   \n",
      "..        ...     ...       ...            ...     ...             ...   \n",
      "115       116    1095       840            117      18              15   \n",
      "116       117    1095       839            214      31               6   \n",
      "117       118    1095         4            214      14               7   \n",
      "118       119    1095       849              3       6              16   \n",
      "119       120    1095       848              3      23              11   \n",
      "\n",
      "    position positionText  positionOrder  points  laps       time  \\\n",
      "0          1            1              1       3    17  25:38.426   \n",
      "1          2            2              2       2    17     +1.430   \n",
      "2          3            3              3       1    17     +7.502   \n",
      "3          4            4              4       0    17    +11.278   \n",
      "4          5            5              5       0    17    +24.111   \n",
      "..       ...          ...            ...     ...   ...        ...   \n",
      "115       16           16             16       0    24    +50.700   \n",
      "116       17           17             17       0    24    +51.756   \n",
      "117       18           18             18       0    24    +53.985   \n",
      "118       19           19             19       0    24  +1:16.850   \n",
      "119       \\N            R             20       0    12         \\N   \n",
      "\n",
      "    milliseconds fastestLap fastestLapTime  statusId  \n",
      "0        1538426         14       1:30.013         1  \n",
      "1        1539856         17       1:29.937         1  \n",
      "2        1545928         17       1:29.958         1  \n",
      "3        1549704         16       1:30.163         1  \n",
      "4        1562537         16       1:30.566         1  \n",
      "..           ...        ...            ...       ...  \n",
      "115      1862007          4       1:15.425         1  \n",
      "116      1863063          5       1:16.097         1  \n",
      "117      1865292          5       1:14.764         1  \n",
      "118      1888157          4       1:16.525         1  \n",
      "119           \\N          4       1:15.998        31  \n",
      "\n",
      "[120 rows x 16 columns]\n"
     ]
    }
   ],
   "source": [
    "# Write your own code\n",
    "df = pd.read_csv('data_quiz/sprint_results.csv')\n",
    "df = df.rename(columns={'grid': 'grid_placement'})\n",
    "print(df)"
   ]
  },
  {
   "cell_type": "markdown",
   "metadata": {},
   "source": [
    "<font size = \"3\">\n",
    "\n",
    "(f) Merge dataset\n",
    "\n",
    "- Create a new dataset with  ```pd.merge()``` using `sprint_results` as the primary dataset, and <br>\n",
    "`constructors` as the secondary dataset, merging on the column `constructorId`\n",
    "- To get full points **ONLY** merge the `nationality` column from the secondary dataset (not all the columns)\n",
    "\n",
    "HINT: Use `[[...]]` to extract a subset of columns <br>\n",
    "from the secondary dataset before merging, including the `constructorId` column.\n",
    "\n",
    "Be careful to notice that `constructorId` has an uppercase \"I\".\n",
    "\n",
    "See Lecture 15"
   ]
  },
  {
   "cell_type": "code",
   "execution_count": 11,
   "metadata": {},
   "outputs": [
    {
     "name": "stdout",
     "output_type": "stream",
     "text": [
      "     resultId  raceId  driverId  constructorId  number  grid position  \\\n",
      "0           1    1061       830              9      33     2        1   \n",
      "1           2    1061         1            131      44     1        2   \n",
      "2           3    1061       822            131      77     3        3   \n",
      "3           4    1061       844              6      16     4        4   \n",
      "4           5    1061       846              1       4     6        5   \n",
      "..        ...     ...       ...            ...     ...   ...      ...   \n",
      "115       116    1095       840            117      18    15       16   \n",
      "116       117    1095       839            214      31     6       17   \n",
      "117       118    1095         4            214      14     7       18   \n",
      "118       119    1095       849              3       6    16       19   \n",
      "119       120    1095       848              3      23    11       \\N   \n",
      "\n",
      "    positionText  positionOrder  points  laps       time milliseconds  \\\n",
      "0              1              1       3    17  25:38.426      1538426   \n",
      "1              2              2       2    17     +1.430      1539856   \n",
      "2              3              3       1    17     +7.502      1545928   \n",
      "3              4              4       0    17    +11.278      1549704   \n",
      "4              5              5       0    17    +24.111      1562537   \n",
      "..           ...            ...     ...   ...        ...          ...   \n",
      "115           16             16       0    24    +50.700      1862007   \n",
      "116           17             17       0    24    +51.756      1863063   \n",
      "117           18             18       0    24    +53.985      1865292   \n",
      "118           19             19       0    24  +1:16.850      1888157   \n",
      "119            R             20       0    12         \\N           \\N   \n",
      "\n",
      "    fastestLap fastestLapTime  statusId nationality  \n",
      "0           14       1:30.013         1    Austrian  \n",
      "1           17       1:29.937         1      German  \n",
      "2           17       1:29.958         1      German  \n",
      "3           16       1:30.163         1     Italian  \n",
      "4           16       1:30.566         1     British  \n",
      "..         ...            ...       ...         ...  \n",
      "115          4       1:15.425         1     British  \n",
      "116          5       1:16.097         1      French  \n",
      "117          5       1:14.764         1      French  \n",
      "118          4       1:16.525         1     British  \n",
      "119          4       1:15.998        31     British  \n",
      "\n",
      "[120 rows x 17 columns]\n"
     ]
    }
   ],
   "source": [
    "# Write your own code\n",
    "sprint_results = pd.read_csv('data_quiz/sprint_results.csv')\n",
    "constructors = pd.read_csv('data_quiz/constructors.csv')\n",
    "constructors_subset = constructors[['constructorId', 'nationality']]\n",
    "merged_data = pd.merge(sprint_results, constructors_subset, on='constructorId')\n",
    "print(merged_data)"
   ]
  }
 ],
 "metadata": {
  "kernelspec": {
   "display_name": "base",
   "language": "python",
   "name": "python3"
  },
  "language_info": {
   "codemirror_mode": {
    "name": "ipython",
    "version": 3
   },
   "file_extension": ".py",
   "mimetype": "text/x-python",
   "name": "python",
   "nbconvert_exporter": "python",
   "pygments_lexer": "ipython3",
   "version": "3.12.7"
  },
  "orig_nbformat": 4,
  "vscode": {
   "interpreter": {
    "hash": "45fc1f684f6f416f40889115beff3ddf69879b64cf4bfee48cb72a61e9d15d1a"
   }
  }
 },
 "nbformat": 4,
 "nbformat_minor": 2
}
