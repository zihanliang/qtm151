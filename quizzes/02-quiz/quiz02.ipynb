{
 "cells": [
  {
   "attachments": {},
   "cell_type": "markdown",
   "metadata": {},
   "source": [
    "# QTM 151 - Quiz 2 "
   ]
  },
  {
   "attachments": {},
   "cell_type": "markdown",
   "metadata": {},
   "source": [
    "## Try to submit as an HTML file"
   ]
  },
  {
   "attachments": {},
   "cell_type": "markdown",
   "metadata": {},
   "source": [
    "<font size=\"5\"> \n",
    "\n",
    "Print your name below"
   ]
  },
  {
   "cell_type": "code",
   "execution_count": 11,
   "metadata": {},
   "outputs": [
    {
     "name": "stdout",
     "output_type": "stream",
     "text": [
      "Zihan Liang\n"
     ]
    }
   ],
   "source": [
    "# Write your answer here\n",
    "print(\"Zihan Liang\")"
   ]
  },
  {
   "attachments": {},
   "cell_type": "markdown",
   "metadata": {},
   "source": [
    "<font size = \"5\" >\n",
    "This quiz is open book \n",
    "\n",
    "- You can use the lecture notes\n",
    "- You will get partial credit for attempting the questions\n",
    "- To get full credit, the code should run as intended\n",
    "- You should <span style=\"color:red\"> NOT </span> communicate with other students\n",
    "\n",
    "Print the following message: <br>\n",
    "\n",
    "\"I will abide by Emory's code of conduct\"\n"
   ]
  },
  {
   "cell_type": "code",
   "execution_count": 2,
   "metadata": {},
   "outputs": [
    {
     "name": "stdout",
     "output_type": "stream",
     "text": [
      "I will abide by Emory's code of conduct\n"
     ]
    }
   ],
   "source": [
    "# Write your answer here:\n",
    "print(\"I will abide by Emory's code of conduct\")"
   ]
  },
  {
   "attachments": {},
   "cell_type": "markdown",
   "metadata": {},
   "source": [
    "<font size = \"5\">\n",
    "\n",
    "Import the libraries \"numpy\", \"matplotlib.pyplot\", <br>\n",
    "\"pandas\", \"statsmodels.api\" and \"statsmodels.formula.api\"\n"
   ]
  },
  {
   "cell_type": "code",
   "execution_count": 3,
   "metadata": {},
   "outputs": [],
   "source": [
    "# Write your answer here\n",
    "import numpy as np\n",
    "import matplotlib.pyplot as plt\n",
    "import pandas as pd\n",
    "import statsmodels.api as sm\n",
    "import statsmodels.formula.api as smf"
   ]
  },
  {
   "attachments": {},
   "cell_type": "markdown",
   "metadata": {},
   "source": [
    "<font size = \"5\">\n",
    "\n",
    "Read the dataset \"data_quiz/fifa23_players_basic.csv\"\n",
    "\n",
    "- It's a dataset on professional soccer players\n",
    "- Rows correspond to players (18,539)\n",
    "- Columns contain attributes of players (32)\n",
    "- Try to view the dataset before starting <br>\n",
    "to get a sense of its content"
   ]
  },
  {
   "cell_type": "code",
   "execution_count": 4,
   "metadata": {},
   "outputs": [
    {
     "name": "stdout",
     "output_type": "stream",
     "text": [
      "   Unnamed: 0        Known As           Full Name  Overall  Potential  \\\n",
      "0           0        L. Messi        Lionel Messi       91         91   \n",
      "1           1      K. Benzema       Karim Benzema       91         91   \n",
      "2           2  R. Lewandowski  Robert Lewandowski       91         91   \n",
      "3           3    K. De Bruyne     Kevin De Bruyne       91         91   \n",
      "4           4       K. Mbappé       Kylian Mbappé       91         95   \n",
      "\n",
      "   Value(in Euro) Positions Played Best Position Nationality  \\\n",
      "0        54000000               RW           CAM   Argentina   \n",
      "1        64000000            CF,ST            CF      France   \n",
      "2        84000000               ST            ST      Poland   \n",
      "3       107500000           CM,CAM            CM     Belgium   \n",
      "4       190500000            ST,LW            ST      France   \n",
      "\n",
      "                                         Image Link  ...  Preferred Foot  \\\n",
      "0  https://cdn.sofifa.net/players/158/023/23_60.png  ...            Left   \n",
      "1  https://cdn.sofifa.net/players/165/153/23_60.png  ...           Right   \n",
      "2  https://cdn.sofifa.net/players/188/545/23_60.png  ...           Right   \n",
      "3  https://cdn.sofifa.net/players/192/985/23_60.png  ...           Right   \n",
      "4  https://cdn.sofifa.net/players/231/747/23_60.png  ...           Right   \n",
      "\n",
      "   Weak Foot Rating  Skill Moves  International Reputation  \\\n",
      "0                 4            4                         5   \n",
      "1                 4            4                         4   \n",
      "2                 4            4                         5   \n",
      "3                 5            4                         4   \n",
      "4                 4            5                         4   \n",
      "\n",
      "   National Team Name             National Team Image Link  \\\n",
      "0           Argentina  https://cdn.sofifa.net/flags/ar.png   \n",
      "1              France  https://cdn.sofifa.net/flags/fr.png   \n",
      "2              Poland  https://cdn.sofifa.net/flags/pl.png   \n",
      "3             Belgium  https://cdn.sofifa.net/flags/be.png   \n",
      "4              France  https://cdn.sofifa.net/flags/fr.png   \n",
      "\n",
      "   National Team Position  National Team Jersey Number Attacking Work Rate  \\\n",
      "0                      RW                           10                 Low   \n",
      "1                      ST                           19              Medium   \n",
      "2                      ST                            9                High   \n",
      "3                      RF                            7                High   \n",
      "4                      ST                           10                High   \n",
      "\n",
      "  Defensive Work Rate  \n",
      "0                 Low  \n",
      "1              Medium  \n",
      "2              Medium  \n",
      "3                High  \n",
      "4                 Low  \n",
      "\n",
      "[5 rows x 33 columns]\n",
      "<class 'pandas.core.frame.DataFrame'>\n",
      "RangeIndex: 18539 entries, 0 to 18538\n",
      "Data columns (total 33 columns):\n",
      " #   Column                       Non-Null Count  Dtype \n",
      "---  ------                       --------------  ----- \n",
      " 0   Unnamed: 0                   18539 non-null  int64 \n",
      " 1   Known As                     18539 non-null  object\n",
      " 2   Full Name                    18539 non-null  object\n",
      " 3   Overall                      18539 non-null  int64 \n",
      " 4   Potential                    18539 non-null  int64 \n",
      " 5   Value(in Euro)               18539 non-null  int64 \n",
      " 6   Positions Played             18539 non-null  object\n",
      " 7   Best Position                18539 non-null  object\n",
      " 8   Nationality                  18539 non-null  object\n",
      " 9   Image Link                   18539 non-null  object\n",
      " 10  Age                          18539 non-null  int64 \n",
      " 11  Height(in cm)                18539 non-null  int64 \n",
      " 12  Weight(in kg)                18539 non-null  int64 \n",
      " 13  TotalStats                   18539 non-null  int64 \n",
      " 14  BaseStats                    18539 non-null  int64 \n",
      " 15  Club Name                    18539 non-null  object\n",
      " 16  Wage(in Euro)                18539 non-null  int64 \n",
      " 17  Release Clause               18539 non-null  int64 \n",
      " 18  Club Position                18539 non-null  object\n",
      " 19  Contract Until               18539 non-null  object\n",
      " 20  Club Jersey Number           18539 non-null  object\n",
      " 21  Joined On                    18539 non-null  int64 \n",
      " 22  On Loan                      18539 non-null  object\n",
      " 23  Preferred Foot               18539 non-null  object\n",
      " 24  Weak Foot Rating             18539 non-null  int64 \n",
      " 25  Skill Moves                  18539 non-null  int64 \n",
      " 26  International Reputation     18539 non-null  int64 \n",
      " 27  National Team Name           18539 non-null  object\n",
      " 28  National Team Image Link     18539 non-null  object\n",
      " 29  National Team Position       18539 non-null  object\n",
      " 30  National Team Jersey Number  18539 non-null  object\n",
      " 31  Attacking Work Rate          18539 non-null  object\n",
      " 32  Defensive Work Rate          18539 non-null  object\n",
      "dtypes: int64(15), object(18)\n",
      "memory usage: 4.7+ MB\n",
      "None\n",
      "Index(['Unnamed: 0', 'Known As', 'Full Name', 'Overall', 'Potential',\n",
      "       'Value(in Euro)', 'Positions Played', 'Best Position', 'Nationality',\n",
      "       'Image Link', 'Age', 'Height(in cm)', 'Weight(in kg)', 'TotalStats',\n",
      "       'BaseStats', 'Club Name', 'Wage(in Euro)', 'Release Clause',\n",
      "       'Club Position', 'Contract Until', 'Club Jersey Number', 'Joined On',\n",
      "       'On Loan', 'Preferred Foot', 'Weak Foot Rating', 'Skill Moves',\n",
      "       'International Reputation', 'National Team Name',\n",
      "       'National Team Image Link', 'National Team Position',\n",
      "       'National Team Jersey Number', 'Attacking Work Rate',\n",
      "       'Defensive Work Rate'],\n",
      "      dtype='object')\n"
     ]
    }
   ],
   "source": [
    "# Write your own code\n",
    "df = pd.read_csv('E:/Education/Quantitative Theory & Methods/151 Introduction to Statistical Computing II/qtm151/qtm151/quizzes/02-quiz/data_quiz/fifa23_players_basic.csv')\n",
    "print(df.head())\n",
    "print(df.info())\n",
    "print(df.columns)"
   ]
  },
  {
   "attachments": {},
   "cell_type": "markdown",
   "metadata": {},
   "source": [
    "<font size = \"5\">\n",
    "\n",
    "(a) Use queries + global variables\n",
    "\n",
    "<font size = \"3\">\n",
    "\n",
    "- Subset the players whose value of the column \"On Loan\" is \"YES\" <br>\n",
    "and store it in a new dataset\n",
    "- How many players are on loan?\n",
    "\n",
    "HINT: Remember that there is a special syntax for <br>\n",
    "when the column names have spaces (see Lecture 10) <br>\n",
    "and when the value is a string. <br>\n",
    "Reference the column as ``` `On Loan` ``` inside .query()"
   ]
  },
  {
   "cell_type": "code",
   "execution_count": 5,
   "metadata": {},
   "outputs": [
    {
     "name": "stdout",
     "output_type": "stream",
     "text": [
      "The number of players on loan: 1229\n"
     ]
    }
   ],
   "source": [
    "# Write your own code\n",
    "on_loan_players = df.query('`On Loan` == \"YES\"')\n",
    "num_on_loan_players = len(on_loan_players)\n",
    "print(f'The number of players on loan: {num_on_loan_players}')"
   ]
  },
  {
   "attachments": {},
   "cell_type": "markdown",
   "metadata": {},
   "source": [
    "<font size = \"5\">\n",
    "\n",
    "(b) Create a function and apply it to a column <br>\n",
    "\n",
    "<font size = \"3\">\n",
    "\n",
    "Step 1:\n",
    "- Define a function with a parameter \"Overall\"\n",
    "- If \"Overall > 90\", classification = \"Top Performer\"\n",
    "- If \"Overall <= 90\", classification = \"Non Top-Performer\"\n",
    "- The function returns \"classification\"\n",
    "\n",
    "Step 2:\n",
    "- Extract the column \"Overall\" in the dataset <br>\n",
    "(be carefeful to write the \"O\" capitalized)\n",
    "- Create a new variable called \"player_classification\" <br>\n",
    "to assign each player to the correct classification\n",
    "\n",
    "HINT: Use the \".apply()\" function"
   ]
  },
  {
   "cell_type": "code",
   "execution_count": 6,
   "metadata": {},
   "outputs": [
    {
     "name": "stdout",
     "output_type": "stream",
     "text": [
      "   Overall player_classification\n",
      "0       91         Top Performer\n",
      "1       91         Top Performer\n",
      "2       91         Top Performer\n",
      "3       91         Top Performer\n",
      "4       91         Top Performer\n"
     ]
    }
   ],
   "source": [
    "# Write your own code\n",
    "def classify_player(overall):\n",
    "    if overall > 90:\n",
    "        return \"Top Performer\"\n",
    "    else:\n",
    "        return \"Non Top-Performer\"\n",
    "\n",
    "df['player_classification'] = df['Overall'].apply(classify_player)\n",
    "\n",
    "print(df[['Overall', 'player_classification']].head())"
   ]
  },
  {
   "attachments": {},
   "cell_type": "markdown",
   "metadata": {},
   "source": [
    "<font size = \"5\">\n",
    "\n",
    "(c) Use sorting + \".iloc[]\"\n",
    "\n",
    "<font size = \"3\">\n",
    "\n",
    "The varable \"Joined On\" shows the date in which each player joined FIFA\n",
    "- Use \".sort_values()\" to order the \"Joined On\" column <br>\n",
    "from earlier data to later date\n",
    "- Get a subset with the 6 players in the dataset <br>\n",
    "who joined FIFA earliest\n",
    "- From this subset, display the year in which they joined <br>\n",
    "by displaying the column \"Joined On\""
   ]
  },
  {
   "cell_type": "code",
   "execution_count": 7,
   "metadata": {},
   "outputs": [
    {
     "name": "stdout",
     "output_type": "stream",
     "text": [
      "8586    1970-01-01 00:00:00.000002002\n",
      "10877   1970-01-01 00:00:00.000002003\n",
      "4324    1970-01-01 00:00:00.000002004\n",
      "11056   1970-01-01 00:00:00.000002005\n",
      "10360   1970-01-01 00:00:00.000002005\n",
      "11768   1970-01-01 00:00:00.000002005\n",
      "Name: Joined On, dtype: datetime64[ns]\n"
     ]
    }
   ],
   "source": [
    "# Write your own code\n",
    "df['Joined On'] = pd.to_datetime(df['Joined On'], errors='coerce')\n",
    "df_sorted = df.sort_values(by='Joined On')\n",
    "earliest_players = df_sorted.iloc[:6]\n",
    "print(earliest_players['Joined On'])"
   ]
  },
  {
   "attachments": {},
   "cell_type": "markdown",
   "metadata": {},
   "source": [
    "<font size = \"5\">\n",
    "\n",
    "(d) Regression function\n",
    "\n",
    "<font size = \"3\">\n",
    "\n",
    "- Run a regression of \"Potential\" (left-hand side) on \"Age\" (right-hand side)\n",
    "- What are the values of the coefficients?\n",
    "\n",
    "[HINT: Use the commands ```smf.ols()``` and ```.fit()``` and ```.params``` <br>\n",
    "from Lecture 11 ]\n"
   ]
  },
  {
   "cell_type": "code",
   "execution_count": 8,
   "metadata": {},
   "outputs": [
    {
     "name": "stdout",
     "output_type": "stream",
     "text": [
      "Coefficients of the regression model:\n",
      "Intercept    79.752454\n",
      "Age          -0.346103\n",
      "dtype: float64\n"
     ]
    }
   ],
   "source": [
    "# Write your own code\n",
    "model = smf.ols('Potential ~ Age', data=df).fit()\n",
    "coefficients = model.params\n",
    "print(\"Coefficients of the regression model:\")\n",
    "print(coefficients)"
   ]
  },
  {
   "attachments": {},
   "cell_type": "markdown",
   "metadata": {},
   "source": [
    "<font size = \"5\">\n",
    "\n",
    "(e) Split a dataset into subsets\n",
    "\n",
    "<font size = \"3\">\n",
    "\n",
    "- Store the total number of rows of the dataset in a variable called ```n``` <br>\n",
    "- Create a new variable called ```random_var``` drawn from a <br>\n",
    "uniform distribution between 0 and 1 with size ```n```\n",
    "- Use .query() to subset all observations with ```random_var <0.5```.<br>\n",
    "store it in a new dataset called \"data0\"\n",
    "- Use .query() to subset all observations with ```random_var >= 0.5```.<br>\n",
    "store it in a new dataset called \"data1\"\n",
    "\n",
    "[HINT: See Lecture 2 for how to generate a uniform random variable]\n"
   ]
  },
  {
   "cell_type": "code",
   "execution_count": 9,
   "metadata": {},
   "outputs": [
    {
     "name": "stdout",
     "output_type": "stream",
     "text": [
      "Data0 size: 9204, Data1 size: 9335\n"
     ]
    }
   ],
   "source": [
    "# Write your own code\n",
    "n = len(df)\n",
    "\n",
    "df['random_var'] = np.random.uniform(0, 1, size=n)\n",
    "\n",
    "data0 = df.query('random_var < 0.5')\n",
    "data1 = df.query('random_var >= 0.5')\n",
    "\n",
    "print(f\"Data0 size: {len(data0)}, Data1 size: {len(data1)}\")"
   ]
  },
  {
   "attachments": {},
   "cell_type": "markdown",
   "metadata": {},
   "source": [
    "<font size = \"5\">\n",
    "\n",
    "(f) Create two overlapping histogram plots\n",
    "\n",
    "<font size = \"3\">\n",
    "\n",
    "- This question requires the two datasets you created in (e)\n",
    "- Display the distribution of \"Age\" for \"data0\" and \"data1\" using <br>\n",
    "```plt.hist()```\n",
    "- You will need to label the axes, and the title\n",
    "- To get full points, plot the histograms with the option  ```alpha = 0.5```, e.g. <br>\n",
    " ``` plt.hist(x = ..., alpha = 0.5) ``` <br>\n",
    " Make sure to substitute the corresponding \"x\" vector instead of ```...``` <br>\n",
    "(The alpha option sets the transparency of the histogram )\n",
    "\n",
    "Note: The goal of this question is to illustrate that random <br>\n",
    "assignment produces very similar distributions between two groups"
   ]
  },
  {
   "cell_type": "code",
   "execution_count": 10,
   "metadata": {},
   "outputs": [
    {
     "data": {
      "image/png": "[encoded data removed]",
      "text/plain": [
       "<Figure size 640x480 with 1 Axes>"
      ]
     },
     "metadata": {},
     "output_type": "display_data"
    }
   ],
   "source": [
    "# Write your own code\n",
    "import matplotlib.pyplot as plt\n",
    "\n",
    "plt.hist(data0['Age'], alpha=0.5, label='data0', bins=15)\n",
    "plt.hist(data1['Age'], alpha=0.5, label='data1', bins=15)\n",
    "\n",
    "plt.xlabel('Age')\n",
    "plt.ylabel('Frequency')\n",
    "plt.title('Overlapping Histogram: Age Distribution of data0 and data1')\n",
    "plt.legend()\n",
    "\n",
    "plt.show()"
   ]
  }
 ],
 "metadata": {
  "kernelspec": {
   "display_name": "base",
   "language": "python",
   "name": "python3"
  },
  "language_info": {
   "codemirror_mode": {
    "name": "ipython",
    "version": 3
   },
   "file_extension": ".py",
   "mimetype": "text/x-python",
   "name": "python",
   "nbconvert_exporter": "python",
   "pygments_lexer": "ipython3",
   "version": "3.12.4"
  },
  "orig_nbformat": 4,
  "vscode": {
   "interpreter": {
    "hash": "45fc1f684f6f416f40889115beff3ddf69879b64cf4bfee48cb72a61e9d15d1a"
   }
  }
 },
 "nbformat": 4,
 "nbformat_minor": 2
}
